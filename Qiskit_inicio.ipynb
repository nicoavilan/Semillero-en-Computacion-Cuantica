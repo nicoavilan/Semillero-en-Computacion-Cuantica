{
  "nbformat": 4,
  "nbformat_minor": 0,
  "metadata": {
    "colab": {
      "provenance": [],
      "include_colab_link": true
    },
    "kernelspec": {
      "name": "python3",
      "display_name": "Python 3"
    },
    "language_info": {
      "name": "python"
    }
  },
  "cells": [
    {
      "cell_type": "markdown",
      "metadata": {
        "id": "view-in-github",
        "colab_type": "text"
      },
      "source": [
        "<a href=\"https://colab.research.google.com/github/nicoavilan/Semillero-en-Computacion-Cuantica/blob/main/Qiskit_inicio.ipynb\" target=\"_parent\"><img src=\"https://colab.research.google.com/assets/colab-badge.svg\" alt=\"Open In Colab\"/></a>"
      ]
    },
    {
      "cell_type": "markdown",
      "source": [
        "# **Introducción a la Computación Cuántica**\n",
        "\n",
        "[Matematicas Aplicadas y Ciencias de la Computacion - MACC](https://urosario.edu.co/matematicas-aplicadas-y-ciencias-de-la-computacion-macc)\n",
        "\n",
        "**Escuela de Ciencias e Ingeniería**\n",
        "\n",
        "[Universidad del Rosario](https://urosario.edu.co/)"
      ],
      "metadata": {
        "id": "mmz1L68rU3Z-"
      }
    },
    {
      "cell_type": "markdown",
      "source": [
        "**Tutorial**\n",
        "\n",
        "[Basics of Quantum Information - Single systems](https://learning.quantum.ibm.com/course/basics-of-quantum-information/single-systems)"
      ],
      "metadata": {
        "id": "0KECZs9ulMUg"
      }
    },
    {
      "cell_type": "code",
      "source": [
        "import numpy as np  # Para manipular arreglos numéricos. Vectores y matrices.\n",
        "import pandas as pd # Para manipular archivos de datos.\n",
        "import seaborn as sns # Gráficas"
      ],
      "metadata": {
        "id": "9rCoM62eiwzz"
      },
      "execution_count": 1,
      "outputs": []
    },
    {
      "cell_type": "markdown",
      "source": [
        "# Simulación de una moneda"
      ],
      "metadata": {
        "id": "76AzyFrOtj7L"
      }
    },
    {
      "cell_type": "markdown",
      "source": [
        "Hacemos una simulación del lanzamiento de una moneda para tener intuiciones respecto al las mediciones de los estados cuánticos."
      ],
      "metadata": {
        "id": "rSdEsAEdYq0n"
      }
    },
    {
      "cell_type": "code",
      "source": [
        "# En cada ejecución podemos tener un resultado diferente\n",
        "print(np.random.choice([\"Cara\", \"Sello\"]))"
      ],
      "metadata": {
        "id": "vbfk9NootnHC"
      },
      "execution_count": null,
      "outputs": []
    },
    {
      "cell_type": "markdown",
      "source": [
        "Examinamos el resultado de lanzar muchas monedas"
      ],
      "metadata": {
        "id": "I6boItrrt8Ng"
      }
    },
    {
      "cell_type": "code",
      "source": [
        "monedas = []\n",
        "# probar con diferentes valores para evidenciar el comportamiento\n",
        "# 10, 100, 1000, 10000\n",
        "N = 10**1\n",
        "for _ in range(N):\n",
        "  monedas.append(np.random.choice([\"Cara\", \"Sello\"]))\n",
        "\n",
        "#print(monedas)\n",
        "print(pd.Series(monedas).value_counts())\n",
        "sns.histplot(monedas);"
      ],
      "metadata": {
        "id": "nPWZZHYHuAiK"
      },
      "execution_count": null,
      "outputs": []
    },
    {
      "cell_type": "markdown",
      "source": [
        "# Inicio Qiskit"
      ],
      "metadata": {
        "id": "sPQ0eo5BIG5f"
      }
    },
    {
      "cell_type": "code",
      "source": [
        "# instalo qiskit\n",
        "%pip install qiskit --quiet"
      ],
      "metadata": {
        "collapsed": true,
        "id": "oTE0vtt2o-WQ"
      },
      "execution_count": null,
      "outputs": []
    },
    {
      "cell_type": "markdown",
      "source": [
        "Verifico la versión instalada (Este código funciona con la versión 2.0.2)"
      ],
      "metadata": {
        "id": "mFU8fGqIi9F8"
      }
    },
    {
      "cell_type": "code",
      "source": [
        "import qiskit\n",
        "print(qiskit.__version__)"
      ],
      "metadata": {
        "id": "YR0-TKm8ipCO"
      },
      "execution_count": null,
      "outputs": []
    },
    {
      "cell_type": "markdown",
      "source": [
        "**Statevector** nos permite definir estados cuánticos y hacer algunas operaciones entre ellos.\n",
        "\n",
        "Consultar [Statevector](https://docs.quantum.ibm.com/api/qiskit/qiskit.quantum_info.Statevector)"
      ],
      "metadata": {
        "id": "ONzeGGotLyUa"
      }
    },
    {
      "cell_type": "markdown",
      "source": [
        "## Estados cuánticos"
      ],
      "metadata": {
        "id": "HPLHoMgkP2FX"
      }
    },
    {
      "cell_type": "code",
      "source": [
        "from qiskit.quantum_info import Statevector"
      ],
      "metadata": {
        "id": "sVI2i0dTo7eg"
      },
      "execution_count": 6,
      "outputs": []
    },
    {
      "cell_type": "code",
      "source": [
        "# Statevector es una función que define un estado cuántico a partir de dos números que en general son complejos.\n",
        "\n",
        "u = Statevector([1 / np.sqrt(2), 1 / np.sqrt(2)])\n",
        "v = Statevector([(1 + 2.0j) / 3, -2 / 3])\n",
        "w = Statevector([1 / 3, 2 / 3])\n",
        "\n",
        "print(\"State vectors u, v, and w have been defined.\")"
      ],
      "metadata": {
        "id": "8VWBxG7-o5AG"
      },
      "execution_count": null,
      "outputs": []
    },
    {
      "cell_type": "markdown",
      "source": [
        "Visualizamos los estados con la notación de kets"
      ],
      "metadata": {
        "id": "Xz7QYwSBMRH3"
      }
    },
    {
      "cell_type": "code",
      "source": [
        "v.draw(\"latex\")"
      ],
      "metadata": {
        "id": "vrFYE1GFKpYK"
      },
      "execution_count": null,
      "outputs": []
    },
    {
      "cell_type": "markdown",
      "source": [
        "Evaluamos el conjugado"
      ],
      "metadata": {
        "id": "T-T-zjVjMUog"
      }
    },
    {
      "cell_type": "code",
      "source": [
        "v.conjugate().draw(\"latex\")"
      ],
      "metadata": {
        "id": "hsJwUjuRKqyb"
      },
      "execution_count": null,
      "outputs": []
    },
    {
      "cell_type": "markdown",
      "source": [
        "Los coeficientes nos dan información de la probabilidad de encontrar el sistema en cada estado (recordar [Regla de Born](https://en.wikipedia.org/wiki/Born_rule))"
      ],
      "metadata": {
        "id": "g1mlyiPVM4PU"
      }
    },
    {
      "cell_type": "code",
      "source": [
        "v.probabilities()"
      ],
      "metadata": {
        "id": "k_1HDnZ1MqXe"
      },
      "execution_count": null,
      "outputs": []
    },
    {
      "cell_type": "code",
      "source": [
        "print(v.probabilities().sum())"
      ],
      "metadata": {
        "id": "sUPNGrD1xkAq"
      },
      "execution_count": null,
      "outputs": []
    },
    {
      "cell_type": "markdown",
      "source": [
        "Verificamos si un estado es válido o no. Observemos que el estado es válido si las probabilidades de los estados suman 1."
      ],
      "metadata": {
        "id": "uezeHrJeNo10"
      }
    },
    {
      "cell_type": "code",
      "source": [
        "# .isvalid() verufica si la norma del vector es 1.\n",
        "display(v.is_valid())\n",
        "display(w.is_valid())"
      ],
      "metadata": {
        "id": "SeYSLw4KqqYk"
      },
      "execution_count": null,
      "outputs": []
    },
    {
      "cell_type": "code",
      "source": [
        "print(v.probabilities().sum())"
      ],
      "metadata": {
        "id": "swECFkL_N3HK"
      },
      "execution_count": null,
      "outputs": []
    },
    {
      "cell_type": "code",
      "source": [
        "print(w.probabilities().sum())"
      ],
      "metadata": {
        "id": "1idg4FEpN8T6"
      },
      "execution_count": null,
      "outputs": []
    },
    {
      "cell_type": "markdown",
      "source": [
        "## Medidas sobre los estados"
      ],
      "metadata": {
        "id": "TtxCOwFOP7uW"
      }
    },
    {
      "cell_type": "markdown",
      "source": [
        "Podemos medir hacer una medida para cada estado.\n",
        "Observe que cada ejecución puede dar un resultado diferente"
      ],
      "metadata": {
        "id": "OMvR08eaOD3R"
      }
    },
    {
      "cell_type": "code",
      "source": [
        "print(v.measure()[0])"
      ],
      "metadata": {
        "id": "_rwjAtlxsJBh"
      },
      "execution_count": null,
      "outputs": []
    },
    {
      "cell_type": "markdown",
      "source": [
        "Observemos que en cada ejecución podemos tener un resultado diferente ... como en el caso del lanzamiento de monedas!"
      ],
      "metadata": {
        "id": "C6OYvaL1OV7q"
      }
    },
    {
      "cell_type": "code",
      "source": [
        "v_ = v.measure() # Guardo la medida\n",
        "v_"
      ],
      "metadata": {
        "id": "RBoDwck7OyM7"
      },
      "execution_count": null,
      "outputs": []
    },
    {
      "cell_type": "code",
      "source": [
        "print(v_) # Imrpimo el resultado\n",
        "#print(v_[0]) # Imprimo el ket\n",
        "#v_[1].draw(\"latex\") # Imprimo el ket en latex\n",
        "#print(v_[1].probabilities()) # Imprimo actualización de las probabilidades\n",
        "#v_[1].measure() # Veo que la medida ya no cambia el estado"
      ],
      "metadata": {
        "id": "AXW-qi8FOP26"
      },
      "execution_count": null,
      "outputs": []
    },
    {
      "cell_type": "markdown",
      "source": [
        "Ahora, para verificar la distribución de probabilidades hacemos un mayor número de experimentos y analizamos los resultados."
      ],
      "metadata": {
        "id": "ZTuLeh5kOjgH"
      }
    },
    {
      "cell_type": "markdown",
      "source": [
        "El histograma debería evidenciar la siguiente distribución de probabilidades:"
      ],
      "metadata": {
        "id": "hKSetmc4Ot8g"
      }
    },
    {
      "cell_type": "code",
      "source": [
        "display(v.draw(\"latex\"))\n",
        "print(v.probabilities())"
      ],
      "metadata": {
        "id": "IgV9XjMTO34J"
      },
      "execution_count": null,
      "outputs": []
    },
    {
      "cell_type": "code",
      "source": [
        "# Para hacer los histogramas de los experimentos\n",
        "from qiskit.visualization import plot_histogram"
      ],
      "metadata": {
        "id": "PfaotNPqPC_X"
      },
      "execution_count": 32,
      "outputs": []
    },
    {
      "cell_type": "markdown",
      "source": [
        "Múltiples experimentos\n",
        "\n"
      ],
      "metadata": {
        "id": "Mk6UMM7sO6lw"
      }
    },
    {
      "cell_type": "code",
      "source": [
        "statistics = v.sample_counts(1000)  # Registra el resultado de múltiples experimentos\n",
        "statistics"
      ],
      "metadata": {
        "id": "UQj5SQxexc_S"
      },
      "execution_count": null,
      "outputs": []
    },
    {
      "cell_type": "markdown",
      "source": [
        "Tabla de resultados"
      ],
      "metadata": {
        "id": "J43AI9fXPVCw"
      }
    },
    {
      "cell_type": "code",
      "source": [
        "print(\"Resultados de la simulación:\\n\")\n",
        "print(f\"{'qbit':<5} {'Frecuencia':>5}\")\n",
        "print(\"-\" * 16)\n",
        "\n",
        "for qbit, count in statistics.items():\n",
        "    print(f\"{qbit:<4} {count:>4}\")"
      ],
      "metadata": {
        "id": "10wAGVllPUlM"
      },
      "execution_count": null,
      "outputs": []
    },
    {
      "cell_type": "markdown",
      "source": [
        "Tabla de resultados e histograma\n",
        "\n"
      ],
      "metadata": {
        "id": "baAPN6xePaUt"
      }
    },
    {
      "cell_type": "code",
      "source": [
        "print(\"Resultados de la simulación:\\n\")\n",
        "print(f\"{'qbit':<5} {'Frecuencia':>5}\")\n",
        "print(\"-\" * 20)\n",
        "\n",
        "for qbit, count in statistics.items():\n",
        "    print(f\"{qbit:<4} {count:>4}\")\n",
        "\n",
        "plot_histogram(statistics)"
      ],
      "metadata": {
        "id": "OPS_0haXPchW"
      },
      "execution_count": null,
      "outputs": []
    },
    {
      "cell_type": "markdown",
      "source": [
        "El estado u se definió con igual probabilidad para $|0\\rangle$ y $|1\\rangle$."
      ],
      "metadata": {
        "id": "8W8RHiHcPW9n"
      }
    },
    {
      "cell_type": "code",
      "source": [
        "u.draw(\"latex\")"
      ],
      "metadata": {
        "id": "H6HBZvaPPjRu"
      },
      "execution_count": null,
      "outputs": []
    },
    {
      "cell_type": "code",
      "source": [
        "print(u.probabilities())"
      ],
      "metadata": {
        "id": "4RB2fCuuPmv-"
      },
      "execution_count": null,
      "outputs": []
    },
    {
      "cell_type": "markdown",
      "source": [
        "Lo cual se verifica en el histograma"
      ],
      "metadata": {
        "id": "8pxb3lW9Pp23"
      }
    },
    {
      "cell_type": "code",
      "source": [
        "statistics = u.sample_counts(10000)\n",
        "\n",
        "print(\"Resultados de la simulación:\\n\")\n",
        "print(f\"{'qbit':<5} {'Frecuencia':>5}\")\n",
        "print(\"-\" * 16)\n",
        "\n",
        "for qbit, count in statistics.items():\n",
        "    print(f\"{qbit:<4} {count:>4}\")\n",
        "\n",
        "plot_histogram(statistics)"
      ],
      "metadata": {
        "id": "oA21uh3vzF0g"
      },
      "execution_count": null,
      "outputs": []
    },
    {
      "cell_type": "markdown",
      "source": [
        "## Visualización de estados cuánticos"
      ],
      "metadata": {
        "id": "wF8LiuC0PuLi"
      }
    },
    {
      "cell_type": "code",
      "source": [
        "from qiskit.visualization import plot_bloch_vector"
      ],
      "metadata": {
        "id": "-Fh-Jo5IPzfr"
      },
      "execution_count": 39,
      "outputs": []
    },
    {
      "cell_type": "code",
      "source": [
        "def bloch_vector_spherical(state):\n",
        "  alpha = state.data[0]\n",
        "  beta = state.data[1]\n",
        "  # Cálculo de las coordenadas esféricas\n",
        "  r = 1  # Radio en la esfera de Bloch siempre es 1 para estados puros\n",
        "  theta = 2 * np.arccos(np.abs(alpha))  # Ángulo θ\n",
        "  phi = np.angle(beta) - np.angle(alpha)  # Ángulo φ\n",
        "\n",
        "  # Crear el vector de coordenadas esféricas [r, theta, phi]\n",
        "  return [r, theta, phi]"
      ],
      "metadata": {
        "id": "7y2pitF1QR3Q"
      },
      "execution_count": 40,
      "outputs": []
    },
    {
      "cell_type": "code",
      "source": [
        "state = Statevector([1/np.sqrt(2), 1/np.sqrt(2)])\n",
        "#state = Statevector([(1 + 2.0j) / 3, -2 / 3])\n",
        "print(state.is_valid())\n",
        "display(\"Estado Cuántico: \", state.draw(\"latex\"))\n",
        "print(f\"Estado en coordenadas esféricas: {bloch_vector_spherical(state)}\")"
      ],
      "metadata": {
        "id": "-ko8GJsVf6y8"
      },
      "execution_count": null,
      "outputs": []
    },
    {
      "cell_type": "code",
      "source": [
        "bloch_vector_spherical(state)"
      ],
      "metadata": {
        "id": "hyET07t2hEkk"
      },
      "execution_count": null,
      "outputs": []
    },
    {
      "cell_type": "code",
      "source": [
        "display(state.draw(\"latex\"))\n",
        "print(\"\\n\")\n",
        "plot_bloch_vector(bloch_vector_spherical(state), coord_type='spherical',\n",
        "                  title=\"Estado en la Esfera de Bloch (Coordenadas Esféricas)\")"
      ],
      "metadata": {
        "id": "cvMRfIt-QWMm"
      },
      "execution_count": null,
      "outputs": []
    },
    {
      "cell_type": "markdown",
      "source": [
        "[Nicolás Avilán Vargas](http://www.linkedin.com/in/nicoavilanv)\n",
        "\n",
        "Para reportar errores o sugerencias: nicolasg.avilan@urosario.edu.co"
      ],
      "metadata": {
        "id": "d4ShQCHqZo0v"
      }
    }
  ]
}