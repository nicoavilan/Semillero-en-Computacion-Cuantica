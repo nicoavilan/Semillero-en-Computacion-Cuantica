{
  "nbformat": 4,
  "nbformat_minor": 0,
  "metadata": {
    "colab": {
      "provenance": [],
      "authorship_tag": "ABX9TyMeHNiJ8fFlD7L8W1SKiz8U",
      "include_colab_link": true
    },
    "kernelspec": {
      "name": "python3",
      "display_name": "Python 3"
    },
    "language_info": {
      "name": "python"
    }
  },
  "cells": [
    {
      "cell_type": "markdown",
      "metadata": {
        "id": "view-in-github",
        "colab_type": "text"
      },
      "source": [
        "<a href=\"https://colab.research.google.com/github/nicoavilan/Semillero-en-Computacion-Cuantica/blob/main/Qiskit_inicio.ipynb\" target=\"_parent\"><img src=\"https://colab.research.google.com/assets/colab-badge.svg\" alt=\"Open In Colab\"/></a>"
      ]
    },
    {
      "cell_type": "markdown",
      "source": [
        "# Semillero en Computación Cuántica"
      ],
      "metadata": {
        "id": "0ZfID-nL8Ppp"
      }
    },
    {
      "cell_type": "markdown",
      "source": [
        "[Matematicas Aplicadas y Ciencias de la Computacion - MACC](https://urosario.edu.co/matematicas-aplicadas-y-ciencias-de-la-computacion-macc)\n",
        "\n",
        "[Escuela de Ingenieria, Ciencia y Tecnologia](https://urosario.edu.co/escuela-de-ingenieria-ciencia-y-tecnologia)\n",
        "\n",
        "[Universidad del Rosario](https://urosario.edu.co/)"
      ],
      "metadata": {
        "id": "mmz1L68rU3Z-"
      }
    },
    {
      "cell_type": "markdown",
      "source": [
        "## Definición de kets"
      ],
      "metadata": {
        "id": "n4wSxppB8Ulp"
      }
    },
    {
      "cell_type": "markdown",
      "source": [
        "**Tutorial**\n",
        "\n",
        "[Basics of Quantum Information - Single systems](https://learning.quantum.ibm.com/course/basics-of-quantum-information/single-systems)"
      ],
      "metadata": {
        "id": "0KECZs9ulMUg"
      }
    },
    {
      "cell_type": "code",
      "source": [
        "import numpy as np\n",
        "import pandas as pd\n",
        "import seaborn as sns"
      ],
      "metadata": {
        "id": "9rCoM62eiwzz"
      },
      "execution_count": null,
      "outputs": []
    },
    {
      "cell_type": "code",
      "source": [
        "ket0 = np.array([1, 0])\n",
        "ket1 = np.array([0, 1])\n",
        "\n",
        "display(ket0 / 2 + ket1 / 2)"
      ],
      "metadata": {
        "id": "eLofIbK3idNg"
      },
      "execution_count": null,
      "outputs": []
    },
    {
      "cell_type": "code",
      "source": [
        "ket0 = np.array([1, 0])\n",
        "ket1 = np.array([0, 1])\n",
        "\n",
        "display(ket0 / 2 + ket1 / 2)"
      ],
      "metadata": {
        "id": "sOgmpGRqizET"
      },
      "execution_count": null,
      "outputs": []
    },
    {
      "cell_type": "code",
      "source": [
        "M1 = np.array([[1, 1], [0, 0]])\n",
        "M2 = np.array([[1, 1], [1, 0]])\n",
        "\n",
        "M1 / 2 + M2 / 2"
      ],
      "metadata": {
        "id": "bz5eKX0WnU8U"
      },
      "execution_count": null,
      "outputs": []
    },
    {
      "cell_type": "code",
      "source": [
        "#from numpy import matmul\n",
        "\n",
        "display(np.matmul(M1, ket1))\n",
        "display(np.matmul(M1, M2))\n",
        "display(np.matmul(M2, M1))"
      ],
      "metadata": {
        "id": "RhOUCR_in_iU"
      },
      "execution_count": null,
      "outputs": []
    },
    {
      "cell_type": "markdown",
      "source": [
        "## Simulación de una moneda"
      ],
      "metadata": {
        "id": "76AzyFrOtj7L"
      }
    },
    {
      "cell_type": "markdown",
      "source": [
        "Hacemos una simulación del lanzamiento de una moneda para tener intuiciones respecto al las mediciones de los estados cuánticos."
      ],
      "metadata": {
        "id": "rSdEsAEdYq0n"
      }
    },
    {
      "cell_type": "code",
      "source": [
        "# En cada ejecución podemos tener un resultado diferente\n",
        "np.random.choice([\"Cara\", \"Sello\"])"
      ],
      "metadata": {
        "id": "vbfk9NootnHC"
      },
      "execution_count": null,
      "outputs": []
    },
    {
      "cell_type": "markdown",
      "source": [
        "Examinamos el resultado de lanzar muchas monedas"
      ],
      "metadata": {
        "id": "I6boItrrt8Ng"
      }
    },
    {
      "cell_type": "code",
      "source": [
        "monedas = []\n",
        "# probar con diferentes valores para evidenciar el comportamiento\n",
        "# 10, 100, 1000, 10000\n",
        "N = 10**2\n",
        "for _ in range(N):\n",
        "  monedas.append(np.random.choice([\"Cara\", \"Sello\"]))\n",
        "\n",
        "#print(monedas)\n",
        "pd.Series(monedas).value_counts()"
      ],
      "metadata": {
        "id": "nPWZZHYHuAiK"
      },
      "execution_count": null,
      "outputs": []
    },
    {
      "cell_type": "code",
      "source": [
        "sns.histplot(monedas);"
      ],
      "metadata": {
        "id": "tJlESkPDu5MO"
      },
      "execution_count": null,
      "outputs": []
    },
    {
      "cell_type": "markdown",
      "source": [
        "## Inicio Qiskit"
      ],
      "metadata": {
        "id": "sPQ0eo5BIG5f"
      }
    },
    {
      "cell_type": "code",
      "source": [
        "# instalo qiskit\n",
        "%pip install qiskit --quiet"
      ],
      "metadata": {
        "collapsed": true,
        "id": "oTE0vtt2o-WQ"
      },
      "execution_count": null,
      "outputs": []
    },
    {
      "cell_type": "markdown",
      "source": [
        "**Statevector** nos permite definir estados cuánticos y hacer algunas operaciones entre ellos.\n",
        "\n",
        "Consultar [Statevector](https://docs.quantum.ibm.com/api/qiskit/qiskit.quantum_info.Statevector)"
      ],
      "metadata": {
        "id": "ONzeGGotLyUa"
      }
    },
    {
      "cell_type": "markdown",
      "source": [
        "### Estados cuánticos"
      ],
      "metadata": {
        "id": "HPLHoMgkP2FX"
      }
    },
    {
      "cell_type": "code",
      "source": [
        "from qiskit.quantum_info import Statevector"
      ],
      "metadata": {
        "id": "sVI2i0dTo7eg"
      },
      "execution_count": null,
      "outputs": []
    },
    {
      "cell_type": "code",
      "source": [
        "# Statevector es una función que define un estado cuántico a partir de dos números que en general son complejos.\n",
        "\n",
        "u = Statevector([1 / np.sqrt(2), 1 / np.sqrt(2)])\n",
        "v = Statevector([(1 + 2.0j) / 3, -2 / 3])\n",
        "w = Statevector([1 / 3, 2 / 3])\n",
        "\n",
        "print(\"State vectors u, v, and w have been defined.\")"
      ],
      "metadata": {
        "id": "8VWBxG7-o5AG"
      },
      "execution_count": null,
      "outputs": []
    },
    {
      "cell_type": "markdown",
      "source": [
        "Visualizamos los estados con la notación de kets"
      ],
      "metadata": {
        "id": "Xz7QYwSBMRH3"
      }
    },
    {
      "cell_type": "code",
      "source": [
        "v.draw(\"latex\")"
      ],
      "metadata": {
        "id": "vrFYE1GFKpYK"
      },
      "execution_count": null,
      "outputs": []
    },
    {
      "cell_type": "markdown",
      "source": [
        "Evaluamos el conjugado"
      ],
      "metadata": {
        "id": "T-T-zjVjMUog"
      }
    },
    {
      "cell_type": "code",
      "source": [
        "v.conjugate().draw(\"latex\")"
      ],
      "metadata": {
        "id": "hsJwUjuRKqyb"
      },
      "execution_count": null,
      "outputs": []
    },
    {
      "cell_type": "markdown",
      "source": [
        "Los coeficientes nos dan información de la probabilidad de encontrar el sistema en cada estado (recordar [Regla de Born](https://en.wikipedia.org/wiki/Born_rule))"
      ],
      "metadata": {
        "id": "g1mlyiPVM4PU"
      }
    },
    {
      "cell_type": "code",
      "source": [
        "v.probabilities()"
      ],
      "metadata": {
        "id": "k_1HDnZ1MqXe"
      },
      "execution_count": null,
      "outputs": []
    },
    {
      "cell_type": "markdown",
      "source": [
        "Verificamos si un estado es válido o no. Observemos que el estado es válido si las probabilidades de los estados suman 1."
      ],
      "metadata": {
        "id": "uezeHrJeNo10"
      }
    },
    {
      "cell_type": "code",
      "source": [
        "# .isvalid() verufica si la norma del vector es 1.\n",
        "display(u.is_valid())\n",
        "display(w.is_valid())"
      ],
      "metadata": {
        "id": "SeYSLw4KqqYk"
      },
      "execution_count": null,
      "outputs": []
    },
    {
      "cell_type": "code",
      "source": [
        "v.probabilities().sum()"
      ],
      "metadata": {
        "id": "swECFkL_N3HK"
      },
      "execution_count": null,
      "outputs": []
    },
    {
      "cell_type": "code",
      "source": [
        "w.probabilities().sum()"
      ],
      "metadata": {
        "id": "1idg4FEpN8T6"
      },
      "execution_count": null,
      "outputs": []
    },
    {
      "cell_type": "markdown",
      "source": [
        "### Medidas sobre los estados"
      ],
      "metadata": {
        "id": "TtxCOwFOP7uW"
      }
    },
    {
      "cell_type": "markdown",
      "source": [
        "Podemos medir hacer una medida para cada estado"
      ],
      "metadata": {
        "id": "OMvR08eaOD3R"
      }
    },
    {
      "cell_type": "code",
      "source": [
        "v.measure()"
      ],
      "metadata": {
        "id": "_rwjAtlxsJBh"
      },
      "execution_count": null,
      "outputs": []
    },
    {
      "cell_type": "markdown",
      "source": [
        "Observemos que en cada ejecución podemos tener un resultado diferente ... como en el caso del lanzamiento de monedas!"
      ],
      "metadata": {
        "id": "C6OYvaL1OV7q"
      }
    },
    {
      "cell_type": "code",
      "source": [
        "v.measure()[0]"
      ],
      "metadata": {
        "id": "AXW-qi8FOP26"
      },
      "execution_count": null,
      "outputs": []
    },
    {
      "cell_type": "markdown",
      "source": [
        "Ahora, para verificar la distribución de probabilidades hacemos un mayor número de experimentos y analizamos los resultados."
      ],
      "metadata": {
        "id": "ZTuLeh5kOjgH"
      }
    },
    {
      "cell_type": "markdown",
      "source": [
        "El histograma debería evidenciar la siguiente distribución de probabilidades:"
      ],
      "metadata": {
        "id": "hKSetmc4Ot8g"
      }
    },
    {
      "cell_type": "code",
      "source": [
        "v.probabilities()"
      ],
      "metadata": {
        "id": "IgV9XjMTO34J"
      },
      "execution_count": null,
      "outputs": []
    },
    {
      "cell_type": "markdown",
      "source": [
        "Esto se verifica en el histograma"
      ],
      "metadata": {
        "id": "Mk6UMM7sO6lw"
      }
    },
    {
      "cell_type": "code",
      "source": [
        "from qiskit.visualization import plot_histogram\n",
        "\n",
        "statistics = v.sample_counts(1000)\n",
        "display(statistics)\n",
        "plot_histogram(statistics)"
      ],
      "metadata": {
        "colab": {
          "base_uri": "https://localhost:8080/",
          "height": 448
        },
        "id": "UQj5SQxexc_S",
        "outputId": "2f33f7b6-31fd-43cb-900d-77639ae00169"
      },
      "execution_count": null,
      "outputs": [
        {
          "output_type": "display_data",
          "data": {
            "text/plain": [
              "{'0': 551, '1': 449}"
            ]
          },
          "metadata": {}
        },
        {
          "output_type": "execute_result",
          "data": {
            "text/plain": [
              "<Figure size 640x480 with 1 Axes>"
            ],
            "image/png": "[encoded data removed]"
          },
          "metadata": {},
          "execution_count": 61
        }
      ]
    },
    {
      "cell_type": "markdown",
      "source": [
        "El estado u se definió con igual probabilidad para $|0\\rangle$ y $|1\\rangle$."
      ],
      "metadata": {
        "id": "8W8RHiHcPW9n"
      }
    },
    {
      "cell_type": "code",
      "source": [
        "u.draw(\"latex\")"
      ],
      "metadata": {
        "id": "H6HBZvaPPjRu"
      },
      "execution_count": null,
      "outputs": []
    },
    {
      "cell_type": "code",
      "source": [
        "u.probabilities()"
      ],
      "metadata": {
        "id": "4RB2fCuuPmv-"
      },
      "execution_count": null,
      "outputs": []
    },
    {
      "cell_type": "markdown",
      "source": [
        "lo cual se verifica en el histograma"
      ],
      "metadata": {
        "id": "8pxb3lW9Pp23"
      }
    },
    {
      "cell_type": "code",
      "source": [
        "statistics = u.sample_counts(10000)\n",
        "display(statistics)\n",
        "plot_histogram(statistics)"
      ],
      "metadata": {
        "id": "oA21uh3vzF0g"
      },
      "execution_count": null,
      "outputs": []
    }
  ]
}