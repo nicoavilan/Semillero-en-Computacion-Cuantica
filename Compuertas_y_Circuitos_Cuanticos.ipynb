{
  "nbformat": 4,
  "nbformat_minor": 0,
  "metadata": {
    "colab": {
      "provenance": [],
      "authorship_tag": "ABX9TyN9F1BEi7q+lN7DZNHe/7aw",
      "include_colab_link": true
    },
    "kernelspec": {
      "name": "python3",
      "display_name": "Python 3"
    },
    "language_info": {
      "name": "python"
    }
  },
  "cells": [
    {
      "cell_type": "markdown",
      "metadata": {
        "id": "view-in-github",
        "colab_type": "text"
      },
      "source": [
        "<a href=\"https://colab.research.google.com/github/nicoavilan/Semillero-en-Computacion-Cuantica/blob/main/Compuertas_y_Circuitos_Cuanticos.ipynb\" target=\"_parent\"><img src=\"https://colab.research.google.com/assets/colab-badge.svg\" alt=\"Open In Colab\"/></a>"
      ]
    },
    {
      "cell_type": "markdown",
      "source": [
        "**Semillero en Computación Cuántica**\n",
        "\n",
        "[Matematicas Aplicadas y Ciencias de la Computacion - MACC](https://urosario.edu.co/matematicas-aplicadas-y-ciencias-de-la-computacion-macc)\n",
        "\n",
        "[Escuela de Ingenieria, Ciencia y Tecnologia](https://urosario.edu.co/escuela-de-ingenieria-ciencia-y-tecnologia)"
      ],
      "metadata": {
        "id": "2hsk33hK1AkN"
      }
    },
    {
      "cell_type": "markdown",
      "source": [
        "**Tutorial**\n",
        "\n",
        "[Basics of Quantum Information - Single systems](https://learning.quantum.ibm.com/course/basics-of-quantum-information/single-systems)"
      ],
      "metadata": {
        "id": "iugvVx_y2-4e"
      }
    },
    {
      "cell_type": "markdown",
      "source": [
        "# Introducción a las Compuertas Cuánticas"
      ],
      "metadata": {
        "id": "jakXwqKF1Xw1"
      }
    },
    {
      "cell_type": "markdown",
      "source": [
        "\n",
        "\n",
        "Las compuertas cuánticas son operaciones que modifican el estado de los qubits de manera reversible. A diferencia de las compuertas clásicas, que operan sobre bits en el estado 0 o 1, las compuertas cuánticas trabajan sobre qubits en una superposición de ambos estados, representados en el espacio de Hilbert.\n",
        "\n"
      ],
      "metadata": {
        "id": "gyxjioA30rfs"
      }
    },
    {
      "cell_type": "markdown",
      "source": [
        "## 1. Estado de un Qubit\n",
        "Un qubit en un estado general se representa como:\n",
        "$$\n",
        "|\\psi\\rangle = \\alpha |0\\rangle + \\beta |1\\rangle\n",
        "$$\n",
        "donde $\\alpha$ y $\\beta$ son números complejos tales que $|\\alpha|^2 + |\\beta|^2 = 1$. En notación matricial, esto se escribe como:\n",
        "$$\n",
        "|\\psi\\rangle = \\begin{bmatrix} \\alpha \\\\ \\beta \\end{bmatrix}\n",
        "$$\n",
        "\n"
      ],
      "metadata": {
        "id": "5GlaxR6eEwGZ"
      }
    },
    {
      "cell_type": "markdown",
      "source": [
        "## 2. Compuertas Cuánticas Básicas\n",
        "Veamos tres compuertas comunes: **X (NOT cuántico)**, **Y**, y **Z**. Cada compuerta tiene una matriz asociada y actúa sobre el estado de un qubit.\n",
        "\n",
        "- **Compuerta X**: Es equivalente a una compuerta NOT en la computación clásica; cambia $ |0\\rangle $ a $ |1\\rangle $ y viceversa.\n",
        "  $$\n",
        "  X = \\begin{pmatrix} 0 & 1 \\\\ 1 & 0 \\end{pmatrix}\n",
        "  $$\n",
        "\n",
        "- **Compuerta Y**: Similar a la compuerta X, pero incluye números complejos y genera una rotación diferente en la esfera de Bloch.\n",
        "  $$\n",
        "  Y = \\begin{pmatrix} 0 & -i \\\\ i & 0 \\end{pmatrix}\n",
        "  $$\n",
        "\n",
        "- **Compuerta Z**: Cambia el signo del estado $ |1\\rangle $, sin alterar $ |0\\rangle $, realizando una rotación alrededor del eje Z.\n",
        "  $$\n",
        "  Z = \\begin{pmatrix} 1 & 0 \\\\ 0 & -1 \\end{pmatrix}\n",
        "  $$\n",
        "\n",
        "Estas compuertas alteran la fase y amplitud del qubit, afectando su posición en el espacio de Bloch.\n",
        "\n"
      ],
      "metadata": {
        "id": "_v7sJeLSFBl7"
      }
    },
    {
      "cell_type": "markdown",
      "source": [
        "# Implementación en Qiskit"
      ],
      "metadata": {
        "id": "J7sHAss0FaJ0"
      }
    },
    {
      "cell_type": "code",
      "source": [
        "# instalo qiskit\n",
        "%pip install qiskit --quiet"
      ],
      "metadata": {
        "id": "Bda4VevxGcOR"
      },
      "execution_count": 1,
      "outputs": []
    },
    {
      "cell_type": "code",
      "source": [
        "%pip install pylatexenc --quiet"
      ],
      "metadata": {
        "id": "LiWWgm1AAUcw"
      },
      "execution_count": 2,
      "outputs": []
    },
    {
      "cell_type": "code",
      "source": [
        "%pip install qiskit-aer --quiet"
      ],
      "metadata": {
        "id": "qLdF0O8P_U2x"
      },
      "execution_count": 3,
      "outputs": []
    },
    {
      "cell_type": "markdown",
      "source": [
        "**Verifico** la versión instalada (Este código funciona con la versión 2.0.0)"
      ],
      "metadata": {
        "id": "mYhe8HqI6QRd"
      }
    },
    {
      "cell_type": "code",
      "source": [
        "from qiskit import __version__\n",
        "print(__version__)"
      ],
      "metadata": {
        "id": "_Njsgap-6NJ8"
      },
      "execution_count": null,
      "outputs": []
    },
    {
      "cell_type": "markdown",
      "source": [
        "Librerías usuales"
      ],
      "metadata": {
        "id": "D8WiqcW86WDu"
      }
    },
    {
      "cell_type": "code",
      "source": [
        "import numpy as np\n",
        "import pandas as pd\n",
        "import seaborn as sns\n",
        "import matplotlib.pyplot as plt"
      ],
      "metadata": {
        "id": "MLq0bn8UG5Al"
      },
      "execution_count": 5,
      "outputs": []
    },
    {
      "cell_type": "markdown",
      "source": [
        "Librerías de Qiskit"
      ],
      "metadata": {
        "id": "Ajcz30H76YT7"
      }
    },
    {
      "cell_type": "code",
      "source": [
        "from qiskit.quantum_info import Statevector\n",
        "from qiskit.quantum_info import Operator"
      ],
      "metadata": {
        "id": "qBg4PBt96Vej"
      },
      "execution_count": 6,
      "outputs": []
    },
    {
      "cell_type": "markdown",
      "source": [
        "Defino los operadores $X$, $Y$, $Z$."
      ],
      "metadata": {
        "id": "R4wyGcptHQoB"
      }
    },
    {
      "cell_type": "code",
      "source": [
        "X = Operator([[0, 1], [1, 0]])\n",
        "Y = Operator([[0, -1.0j], [1.0j, 0]])\n",
        "Z = Operator([[1, 0], [0, -1]])"
      ],
      "metadata": {
        "id": "RrCnXVcjG0Fv"
      },
      "execution_count": 7,
      "outputs": []
    },
    {
      "cell_type": "code",
      "source": [
        "X.draw(\"latex\")"
      ],
      "metadata": {
        "id": "qc-EocCcHeFz"
      },
      "execution_count": null,
      "outputs": []
    },
    {
      "cell_type": "code",
      "source": [
        "Y.draw(\"latex\")"
      ],
      "metadata": {
        "id": "eV8shvhvHmPZ"
      },
      "execution_count": null,
      "outputs": []
    },
    {
      "cell_type": "code",
      "source": [
        "Z.draw(\"latex\")"
      ],
      "metadata": {
        "id": "heeGUNPxHnyt"
      },
      "execution_count": null,
      "outputs": []
    },
    {
      "cell_type": "code",
      "source": [
        "zero = Statevector([1, 0])\n",
        "zero.draw(\"latex\")"
      ],
      "metadata": {
        "id": "LTpRJusnHqqU"
      },
      "execution_count": null,
      "outputs": []
    },
    {
      "cell_type": "code",
      "source": [
        "one = Statevector([0, 1])\n",
        "one.draw(\"latex\")"
      ],
      "metadata": {
        "id": "J0HSzuML3Kwe"
      },
      "execution_count": null,
      "outputs": []
    },
    {
      "cell_type": "markdown",
      "source": [
        "Aplicación de las compuertas cuánticas sobre los estados"
      ],
      "metadata": {
        "id": "P7fLDeRv6nj-"
      }
    },
    {
      "cell_type": "markdown",
      "source": [
        "$X|0 \\rangle = |1 \\rangle $"
      ],
      "metadata": {
        "id": "YbmEKPszIFUt"
      }
    },
    {
      "cell_type": "markdown",
      "source": [
        "La función `v.evolve(X)` muestra el resultado de la acción de un operador $X$ sobre un estado $v$, sin modificar el estado original."
      ],
      "metadata": {
        "id": "E-S1JBSo0HyP"
      }
    },
    {
      "cell_type": "code",
      "source": [
        "zero.evolve(X).draw(\"latex\")"
      ],
      "metadata": {
        "id": "jazTbrqPHpg6"
      },
      "execution_count": null,
      "outputs": []
    },
    {
      "cell_type": "markdown",
      "source": [
        "Verifico que no se modificó el estado original"
      ],
      "metadata": {
        "id": "oQq0fDE00xSn"
      }
    },
    {
      "cell_type": "code",
      "source": [
        "zero.draw(\"latex\")"
      ],
      "metadata": {
        "id": "zwb9OkMq0ovf"
      },
      "execution_count": null,
      "outputs": []
    },
    {
      "cell_type": "markdown",
      "source": [
        "$X|1 \\rangle = |0 \\rangle $"
      ],
      "metadata": {
        "id": "xWkFMehQIXT0"
      }
    },
    {
      "cell_type": "code",
      "source": [
        "one.evolve(X).draw(\"latex\")"
      ],
      "metadata": {
        "id": "XWnKDpFFPovV"
      },
      "execution_count": null,
      "outputs": []
    },
    {
      "cell_type": "markdown",
      "source": [
        "Operador $Y$"
      ],
      "metadata": {
        "id": "Ia4_OOwtP0v2"
      }
    },
    {
      "cell_type": "markdown",
      "source": [
        "$Y|0 \\rangle = i|1 \\rangle $"
      ],
      "metadata": {
        "id": "FjUMk2OxJAQf"
      }
    },
    {
      "cell_type": "code",
      "source": [
        "zero.evolve(Y).draw(\"latex\")"
      ],
      "metadata": {
        "id": "AKmfACC9Iqky"
      },
      "execution_count": null,
      "outputs": []
    },
    {
      "cell_type": "markdown",
      "source": [
        "$Y|1 \\rangle = -i|0 \\rangle $"
      ],
      "metadata": {
        "id": "lNPrE0fpJH6D"
      }
    },
    {
      "cell_type": "code",
      "source": [
        "one.evolve(Y).draw(\"latex\")"
      ],
      "metadata": {
        "id": "JWPOmZIjItpj"
      },
      "execution_count": null,
      "outputs": []
    },
    {
      "cell_type": "markdown",
      "source": [
        "Operador $Z$"
      ],
      "metadata": {
        "id": "yiE2kQ_lP3uu"
      }
    },
    {
      "cell_type": "markdown",
      "source": [
        "$Z|0 \\rangle = |0 \\rangle $"
      ],
      "metadata": {
        "id": "jT_3tNjGJM70"
      }
    },
    {
      "cell_type": "code",
      "source": [
        "zero.evolve(Z).draw(\"latex\")"
      ],
      "metadata": {
        "id": "PM9a7_JOI1XF"
      },
      "execution_count": null,
      "outputs": []
    },
    {
      "cell_type": "markdown",
      "source": [
        "$Z|1 \\rangle = -|1 \\rangle $"
      ],
      "metadata": {
        "id": "-jB9V7wWJQ3E"
      }
    },
    {
      "cell_type": "code",
      "source": [
        "one.evolve(Z).draw(\"latex\")"
      ],
      "metadata": {
        "id": "BWCRTxhhI4UY"
      },
      "execution_count": null,
      "outputs": []
    },
    {
      "cell_type": "markdown",
      "source": [
        "La aplicación de operadores no conmuta"
      ],
      "metadata": {
        "id": "TwHDwHx51eKw"
      }
    },
    {
      "cell_type": "code",
      "source": [
        "zero.evolve(Z).evolve(X).draw(\"latex\")"
      ],
      "metadata": {
        "id": "e8zfORJf1ZyZ"
      },
      "execution_count": null,
      "outputs": []
    },
    {
      "cell_type": "code",
      "source": [
        "zero.evolve(X).evolve(Z).draw(\"latex\")"
      ],
      "metadata": {
        "id": "QOVbGcK3PW7t"
      },
      "execution_count": null,
      "outputs": []
    },
    {
      "cell_type": "markdown",
      "source": [
        "El operador puede actuar en una suma de estados\n",
        "\n",
        "$$X(2|0\\rangle - |1\\rangle) = -|0\\rangle + 2|1\\rangle $$"
      ],
      "metadata": {
        "id": "yMQKQv13RWqA"
      }
    },
    {
      "cell_type": "code",
      "source": [
        "( 2*zero - one).evolve(X).draw(\"latex\")"
      ],
      "metadata": {
        "id": "YGSNBX3HRTMJ"
      },
      "execution_count": null,
      "outputs": []
    },
    {
      "cell_type": "markdown",
      "source": [
        "Podemos verificar que los operadores se representan por matrices unitarias\n",
        "\n",
        "$$U U^\\dagger = U ^\\dagger U = 1 $$"
      ],
      "metadata": {
        "id": "rEwT02RVP5iJ"
      }
    },
    {
      "cell_type": "markdown",
      "source": [
        "Verifico que el adjunto es el transpuesto conjugado"
      ],
      "metadata": {
        "id": "V0UkX93u2L5r"
      }
    },
    {
      "cell_type": "code",
      "source": [
        "A = Operator([[1.0j, 4-1.0j], [2 + 1.0j, 3]])\n",
        "A.draw(\"latex\")"
      ],
      "metadata": {
        "id": "rbB8y3IF10IS"
      },
      "execution_count": null,
      "outputs": []
    },
    {
      "cell_type": "code",
      "source": [
        "A.adjoint().draw(\"latex\")"
      ],
      "metadata": {
        "id": "0j-gq8vx18tC"
      },
      "execution_count": null,
      "outputs": []
    },
    {
      "cell_type": "markdown",
      "source": [
        "Ahora, verifico la propiedad $U U^\\dagger = U ^\\dagger U = 1 $ con los operadores $X$, $Y$, $Z$ previamente definidos."
      ],
      "metadata": {
        "id": "I1Vp12xj2UF0"
      }
    },
    {
      "cell_type": "markdown",
      "source": [
        "$Y Y^\\dagger = Y ^\\dagger Y = 1 $"
      ],
      "metadata": {
        "id": "kA6y6nOSQee4"
      }
    },
    {
      "cell_type": "code",
      "source": [
        "Y.draw(\"latex\")"
      ],
      "metadata": {
        "id": "usPva7BUP9sP"
      },
      "execution_count": null,
      "outputs": []
    },
    {
      "cell_type": "code",
      "source": [
        "Y.adjoint().draw(\"latex\")"
      ],
      "metadata": {
        "id": "6n6awGnuQBX6"
      },
      "execution_count": null,
      "outputs": []
    },
    {
      "cell_type": "code",
      "source": [
        "Operator(np.matmul(Y,Y.adjoint())).draw(\"latex\")"
      ],
      "metadata": {
        "id": "yM8DGfCuQH3I"
      },
      "execution_count": null,
      "outputs": []
    },
    {
      "cell_type": "code",
      "source": [
        "Operator(np.matmul(Y.adjoint(),Y)).draw(\"latex\")"
      ],
      "metadata": {
        "id": "BElD83AwSDoV"
      },
      "execution_count": null,
      "outputs": []
    },
    {
      "cell_type": "markdown",
      "source": [
        "$X X^\\dagger = X ^\\dagger X = 1 $"
      ],
      "metadata": {
        "id": "YXjTeMLuQjxP"
      }
    },
    {
      "cell_type": "code",
      "source": [
        "Operator(np.matmul(X,X.adjoint())).draw(\"latex\")"
      ],
      "metadata": {
        "id": "zOOZcanfRIIt"
      },
      "execution_count": null,
      "outputs": []
    },
    {
      "cell_type": "markdown",
      "source": [
        "$Z Z^\\dagger = Z ^\\dagger Z = 1 $\n",
        "\n"
      ],
      "metadata": {
        "id": "aA7S1NW9QXQI"
      }
    },
    {
      "cell_type": "code",
      "source": [
        "Operator(np.matmul(Z,Z.adjoint())).draw(\"latex\")"
      ],
      "metadata": {
        "id": "awTTGb8cRNwd"
      },
      "execution_count": null,
      "outputs": []
    },
    {
      "cell_type": "markdown",
      "source": [
        "## Operadores adicionales importantes: **Hadamard**, **S** y **T**\n"
      ],
      "metadata": {
        "id": "Ob-53lyOSUv5"
      }
    },
    {
      "cell_type": "markdown",
      "source": [
        "Además de las compuertas X, Y, y Z, hay varias otras compuertas importantes en la computación cuántica que operan sobre un único qubit y son fundamentales para manipular su estado.\n",
        "\n"
      ],
      "metadata": {
        "id": "638wsZWeTJVq"
      }
    },
    {
      "cell_type": "markdown",
      "source": [
        "### 1. Compuerta Hadamard (H)\n",
        "La compuerta Hadamard crea una superposición equitativa de $∣0⟩$ y $∣1⟩$, transformando el qubit en un estado en la esfera de Bloch que está entre ambos.\n",
        " $$ 𝐻 = \\frac{1}{\\sqrt{2}} \\begin{bmatrix} 1 & 1 \\\\ 1 & -1 \\end{bmatrix} $$\n",
        "\n",
        "Aplicar $H$ a los estados $∣0⟩$ y $∣1⟩$ resulta en:\n",
        "\n",
        "$$ 𝐻∣0⟩ = \\frac{1}{\\sqrt{2}}(∣0⟩ + ∣1⟩)$$\n",
        "$$ 𝐻∣1⟩ = \\frac{1}{\\sqrt{2}}(∣0⟩ - ∣1⟩)$$\n",
        "\n"
      ],
      "metadata": {
        "id": "8DRp8EBKTlxK"
      }
    },
    {
      "cell_type": "markdown",
      "source": [
        "### 2. Compuerta de Fase (S)\n",
        "La compuerta S aplica una fase de $π/2$ al estado ∣1⟩, dejando el estado $∣0⟩$ inalterado. Esta compuerta rota el estado alrededor del eje Z de la esfera de Bloch.\n",
        "\n",
        "$$ S = \\begin{bmatrix} 1 & 0 \\\\ 0 & i \\end{bmatrix} $$\n",
        "\n",
        "\n"
      ],
      "metadata": {
        "id": "dFFQyP09UrnU"
      }
    },
    {
      "cell_type": "markdown",
      "source": [
        "\n",
        "### 3. Compuerta T\n",
        "Similar a la compuerta S, la compuerta T agrega una fase de $π/4$ al estado $∣1⟩$.\n",
        "\n",
        "$$ T = \\begin{bmatrix} 1 & 0 \\\\ 0 & e^{i\\pi/4} \\end{bmatrix} = \\begin{bmatrix} 1 & 0 \\\\ 0 & \\frac{1+i}{\\sqrt{2}} \\end{bmatrix} $$\n"
      ],
      "metadata": {
        "id": "Vs95FGJXVkJV"
      }
    },
    {
      "cell_type": "markdown",
      "source": [
        "## Implementación en Qiskit de H, S y T"
      ],
      "metadata": {
        "id": "hVGV5gquWYLx"
      }
    },
    {
      "cell_type": "code",
      "source": [
        "H = Operator([[1 / np.sqrt(2), 1 / np.sqrt(2)], [1 / np.sqrt(2), -1 / np.sqrt(2)]])\n",
        "S = Operator([[1, 0], [0, 1.0j]])\n",
        "T = Operator([[1, 0], [0, (1 + 1.0j) / np.sqrt(2)]])"
      ],
      "metadata": {
        "id": "oM7LYyWtXm17"
      },
      "execution_count": 31,
      "outputs": []
    },
    {
      "cell_type": "code",
      "source": [
        "H.draw(\"latex\")"
      ],
      "metadata": {
        "id": "j_gIErcZXnzM"
      },
      "execution_count": null,
      "outputs": []
    },
    {
      "cell_type": "code",
      "source": [
        "H.adjoint().draw(\"latex\")"
      ],
      "metadata": {
        "id": "xTcm8QniXulf"
      },
      "execution_count": null,
      "outputs": []
    },
    {
      "cell_type": "markdown",
      "source": [
        "Verifico que H es unitario\n",
        "\n",
        "$H H^\\dagger = H ^\\dagger H = 1 $"
      ],
      "metadata": {
        "id": "6uu5iotA9qmG"
      }
    },
    {
      "cell_type": "code",
      "source": [
        "Operator(np.matmul(H, H.adjoint())).draw(\"latex\")"
      ],
      "metadata": {
        "id": "Yy4R9rXq9Uj2"
      },
      "execution_count": null,
      "outputs": []
    },
    {
      "cell_type": "markdown",
      "source": [
        "$ 𝐻∣0⟩ = \\frac{1}{\\sqrt{2}}(∣0⟩ + ∣1⟩)$"
      ],
      "metadata": {
        "id": "Ga_dc_J33ZWW"
      }
    },
    {
      "cell_type": "code",
      "source": [
        "zero.evolve(H).draw('latex')"
      ],
      "metadata": {
        "id": "5HwFJSEm26kV"
      },
      "execution_count": null,
      "outputs": []
    },
    {
      "cell_type": "markdown",
      "source": [
        "$ 𝐻∣1⟩ = \\frac{1}{\\sqrt{2}}(∣0⟩ - ∣1⟩)$"
      ],
      "metadata": {
        "id": "ByBLMTvk3bMu"
      }
    },
    {
      "cell_type": "code",
      "source": [
        "one.evolve(H).draw('latex')"
      ],
      "metadata": {
        "id": "aL2OxvHM3Slt"
      },
      "execution_count": null,
      "outputs": []
    },
    {
      "cell_type": "markdown",
      "source": [
        "$S S^\\dagger = S ^\\dagger S = 1 $"
      ],
      "metadata": {
        "id": "9wtv0wFl32tA"
      }
    },
    {
      "cell_type": "code",
      "source": [
        "S.draw(\"latex\")"
      ],
      "metadata": {
        "id": "H52h-eI3YBG7"
      },
      "execution_count": null,
      "outputs": []
    },
    {
      "cell_type": "code",
      "source": [
        "S.adjoint().draw(\"latex\")"
      ],
      "metadata": {
        "id": "FX20gk6GYDRd"
      },
      "execution_count": null,
      "outputs": []
    },
    {
      "cell_type": "code",
      "source": [
        "Operator(np.matmul(S, S.adjoint())).draw(\"latex\")"
      ],
      "metadata": {
        "id": "plWOxHQSYJVI"
      },
      "execution_count": null,
      "outputs": []
    },
    {
      "cell_type": "markdown",
      "source": [
        "$T T^\\dagger = T ^\\dagger T = 1 $"
      ],
      "metadata": {
        "id": "_EQSMwUL3vOe"
      }
    },
    {
      "cell_type": "code",
      "source": [
        "T.draw(\"latex\")"
      ],
      "metadata": {
        "id": "ccb9dHfQYM4b"
      },
      "execution_count": null,
      "outputs": []
    },
    {
      "cell_type": "code",
      "source": [
        "T.adjoint().draw(\"latex\")"
      ],
      "metadata": {
        "id": "AO9JoHf-YUfi"
      },
      "execution_count": null,
      "outputs": []
    },
    {
      "cell_type": "code",
      "source": [
        "Operator(np.matmul(T, T.adjoint())).draw(\"latex\")"
      ],
      "metadata": {
        "id": "56csUQXjYWzE"
      },
      "execution_count": null,
      "outputs": []
    },
    {
      "cell_type": "markdown",
      "source": [
        "## Ejemplo\n",
        "\n",
        "$$ ZTHTH |0\\rangle = ? $$"
      ],
      "metadata": {
        "id": "vGFKj1JzYsFv"
      }
    },
    {
      "cell_type": "code",
      "source": [
        "v = Statevector([1, 0])\n",
        "\n",
        "display(v.draw(\"latex\"))\n",
        "\n",
        "v = v.evolve(H)\n",
        "v = v.evolve(T)\n",
        "v = v.evolve(H)\n",
        "v = v.evolve(T)\n",
        "v = v.evolve(Z)\n",
        "\n",
        "v.draw(\"latex\")"
      ],
      "metadata": {
        "id": "MXlykGN9HcsH"
      },
      "execution_count": null,
      "outputs": []
    },
    {
      "cell_type": "markdown",
      "source": [
        "# Circuito cuántico"
      ],
      "metadata": {
        "id": "G-YmxTYqR4cF"
      }
    },
    {
      "cell_type": "markdown",
      "source": [
        "Para consultas adicionales de la construcción de circuitos cuántos conviene revisar la documentación de IMB: [QuantumCircuit class](https://docs.quantum.ibm.com/api/qiskit/qiskit.circuit.QuantumCircuit)"
      ],
      "metadata": {
        "id": "ypTRnvpKUN0T"
      }
    },
    {
      "cell_type": "code",
      "source": [
        "from qiskit import QuantumCircuit\n",
        "from qiskit.quantum_info import Operator\n",
        "from qiskit_aer import AerSimulator # Simulador de Circuitos Cuánticos\n",
        "from qiskit.visualization import plot_histogram"
      ],
      "metadata": {
        "id": "wr1ZGUy7-_ix"
      },
      "execution_count": 44,
      "outputs": []
    },
    {
      "cell_type": "markdown",
      "source": [
        "Visualización de circuitos cuánticos"
      ],
      "metadata": {
        "id": "XxfS7duu-5wK"
      }
    },
    {
      "cell_type": "code",
      "source": [
        "circuit = QuantumCircuit(1)\n",
        "\n",
        "circuit.h(0)\n",
        "circuit.t(0)\n",
        "circuit.h(0)\n",
        "circuit.s(0)\n",
        "circuit.y(0)\n",
        "\n",
        "display(circuit.draw())"
      ],
      "metadata": {
        "id": "UvPki5s9AB-a"
      },
      "execution_count": null,
      "outputs": []
    },
    {
      "cell_type": "code",
      "source": [
        "display(circuit.draw(output=\"mpl\"))"
      ],
      "metadata": {
        "id": "2obhw9QiAJnI"
      },
      "execution_count": null,
      "outputs": []
    },
    {
      "cell_type": "markdown",
      "source": [
        "Representación matricial del circuito completo:"
      ],
      "metadata": {
        "id": "UzmOz6vtUpFi"
      }
    },
    {
      "cell_type": "code",
      "source": [
        "display(Operator.from_circuit(circuit).draw(\"latex\"))"
      ],
      "metadata": {
        "id": "ku6APlS-BXu5"
      },
      "execution_count": null,
      "outputs": []
    },
    {
      "cell_type": "code",
      "source": [
        "v = zero.evolve(circuit)\n",
        "display(v.draw(\"latex\"))"
      ],
      "metadata": {
        "id": "jCej7Z3EBinI"
      },
      "execution_count": null,
      "outputs": []
    },
    {
      "cell_type": "code",
      "source": [
        "statistics = v.sample_counts(1000)\n",
        "display(plot_histogram(statistics))"
      ],
      "metadata": {
        "id": "cxh_37qWBmz-"
      },
      "execution_count": null,
      "outputs": []
    },
    {
      "cell_type": "markdown",
      "source": [
        "# Visualización de estados en la esfera de Bloch"
      ],
      "metadata": {
        "id": "WInNRDvaOfby"
      }
    },
    {
      "cell_type": "markdown",
      "source": [
        "Para pasar de un **estado cuántico** $ |\\psi\\rangle $ a las **coordenadas esféricas** en la esfera de Bloch, necesitas primero descomponer el estado en términos de su amplitud para $ |0\\rangle $ y $ |1\\rangle $, y luego convertir esa información en coordenadas en la esfera de Bloch.\n",
        "\n",
        "**Estado Cuántico**\n",
        "\n",
        "Un estado cuántico general de un qubit puede escribirse como:\n",
        "\n",
        "$$\n",
        "|\\psi\\rangle = \\alpha |0\\rangle + \\beta |1\\rangle\n",
        "$$\n",
        "\n",
        "donde $ \\alpha $ y $ \\beta $ son números complejos que satisfacen la condición de normalización:\n",
        "\n",
        "$$\n",
        "|\\alpha|^2 + |\\beta|^2 = 1\n",
        "$$\n",
        "\n",
        "**Conversión a Coordenadas Esféricas**\n",
        "\n",
        "Para representar el estado cuántico en la esfera de Bloch, debes calcular las coordenadas esféricas $ r $, $ \\theta $, y $ \\phi $:\n",
        "\n",
        "1. **Magnitud $ r $**: En la esfera de Bloch, $ r = 1 $ ya que todo estado puro está en la superficie de la esfera.\n",
        "\n",
        "2. **Ángulo $ \\theta $**: Este es el ángulo de inclinación desde el eje Z, y está relacionado con los coeficientes $ \\alpha $ y $ \\beta $ por la fórmula:\n",
        "\n",
        "   $$   \\theta = 2 \\cdot \\arccos(|\\alpha|)  $$\n",
        "   Esto proviene de la probabilidad del estado $ |0\\rangle $, ya que $ |\\alpha|^2 $ representa la probabilidad de medir $ |0\\rangle $.\n",
        "\n",
        "3. **Ángulo $ \\phi $**: Es el ángulo azimutal en el plano XY, y está relacionado con la fase relativa entre $ \\alpha $ y $ \\beta $. Para calcular $ \\phi $, se utiliza la fase de $ \\beta $ relativa a $ \\alpha $:\n",
        "   $$ \\phi = \\arg(\\beta) - \\arg(\\alpha) $$\n",
        "\n",
        "### Proceso de Conversión Paso a Paso\n",
        "\n",
        "Supongamos que tienes el estado:\n",
        "\n",
        "$$ |\\psi\\rangle = \\alpha |0\\rangle + \\beta |1\\rangle $$\n",
        "\n",
        "1. **Cálculo de $ \\theta $**:\n",
        "   \n",
        "   $$ \\theta = 2 \\cdot \\arccos(|\\alpha|) $$\n",
        "   Si $ |\\alpha| $ es la magnitud de la amplitud $ \\alpha $, esto te dará la inclinación del vector en la esfera.\n",
        "\n",
        "2. **Cálculo de $ \\phi $**:\n",
        "   $$ \\phi = \\arg(\\beta) - \\arg(\\alpha) $$\n",
        "   Donde $ \\arg(\\alpha) $ y $ \\arg(\\beta) $ son las fases de los coeficientes $ \\alpha $ y $ \\beta $ respectivamente.\n"
      ],
      "metadata": {
        "id": "xz5jktgFZfXR"
      }
    },
    {
      "cell_type": "markdown",
      "source": [
        "## Implementación en Qiskit\n",
        "\n",
        "Aquí tienes un ejemplo de cómo convertir un estado cuántico a coordenadas esféricas y graficarlo en la esfera de Bloch usando Qiskit:\n",
        "\n",
        "\n",
        "### Explicación del código:\n",
        "1. **Estado cuántico**: Definimos un estado cuántico como una superposición $$ |\\psi\\rangle = \\frac{1}{\\sqrt{2}} |0\\rangle + \\frac{1}{\\sqrt{2}} |1\\rangle $$\n",
        "   \n",
        "2. **Obtener $ \\alpha $ y $ \\beta $**: Extraemos las amplitudes $ \\alpha $ y $ \\beta $ del estado cuántico.\n",
        "\n",
        "3. **Cálculo de $ \\theta $ y $ \\phi $**:\n",
        "   - $ \\theta $ se calcula con $ 2 \\cdot \\arccos(|\\alpha|) $.\n",
        "   - $ \\phi $ es la diferencia entre las fases de $ \\beta $ y $ \\alpha $.\n",
        "\n",
        "4. **Gráfico**: Usamos `plot_bloch_vector` con `coord_type='spherical'` para graficar el vector en la esfera de Bloch.\n",
        "\n",
        "### Resumen:\n",
        "- **$ \\theta $** determina el ángulo con respecto al eje Z, y está relacionado con la probabilidad de encontrar el qubit en el estado $ |0\\rangle $.\n",
        "- **$ \\phi $** es el ángulo azimutal en el plano XY, y depende de la fase relativa entre $ |0\\rangle $ y $ |1\\rangle $.\n",
        "\n",
        "Este enfoque te permite convertir cualquier estado cuántico en coordenadas esféricas y visualizarlas en la esfera de Bloch."
      ],
      "metadata": {
        "id": "8KegXhcDfRIV"
      }
    },
    {
      "cell_type": "code",
      "source": [
        "from qiskit.visualization import plot_bloch_vector"
      ],
      "metadata": {
        "id": "g9T5G5qWfQbc"
      },
      "execution_count": 50,
      "outputs": []
    },
    {
      "cell_type": "code",
      "source": [
        "def bloch_vector_spherical(state):\n",
        "  alpha = state.data[0]\n",
        "  beta = state.data[1]\n",
        "  # Cálculo de las coordenadas esféricas\n",
        "  r = 1  # Radio en la esfera de Bloch siempre es 1 para estados puros\n",
        "  theta = 2 * np.arccos(np.abs(alpha))  # Ángulo θ\n",
        "  phi = np.angle(beta) - np.angle(alpha)  # Ángulo φ\n",
        "\n",
        "  # Crear el vector de coordenadas esféricas [r, theta, phi]\n",
        "  return [r, theta, phi]"
      ],
      "metadata": {
        "id": "KOV_EtQPfgIN"
      },
      "execution_count": 51,
      "outputs": []
    },
    {
      "cell_type": "code",
      "source": [
        "state = state = Statevector([1/np.sqrt(2), 1/np.sqrt(2)])\n",
        "display(state.draw(\"latex\"))\n",
        "print(\"\\n\")\n",
        "plot_bloch_vector(bloch_vector_spherical(state), coord_type='spherical', title=\"Estado en la Esfera de Bloch (Coordenadas Esféricas)\")\n"
      ],
      "metadata": {
        "id": "BRiOlUJfeSAu"
      },
      "execution_count": null,
      "outputs": []
    },
    {
      "cell_type": "code",
      "source": [
        "state = Statevector([1, 0])\n",
        "display(state.draw(\"latex\"))\n",
        "print(\"\\n\")\n",
        "plot_bloch_vector(bloch_vector_spherical(state), coord_type='spherical', title=\"Estado en la Esfera de Bloch (Coordenadas Esféricas)\")\n"
      ],
      "metadata": {
        "id": "2-MWljv-gaCP"
      },
      "execution_count": null,
      "outputs": []
    },
    {
      "cell_type": "code",
      "source": [
        "v = Statevector([1, 0])\n",
        "\n",
        "display(v.draw(\"latex\"))\n",
        "\n",
        "v = v.evolve(H)\n",
        "v = v.evolve(T)\n",
        "v = v.evolve(H)\n",
        "v = v.evolve(T)\n",
        "v = v.evolve(Z)\n",
        "\n",
        "display(v.draw(\"latex\"))\n",
        "print(\"\\n\")\n",
        "\n",
        "plot_bloch_vector(bloch_vector_spherical(v), coord_type='spherical', title=\"Estado en la Esfera de Bloch (Coordenadas Esféricas)\")"
      ],
      "metadata": {
        "id": "P_v6zOy1gX7o"
      },
      "execution_count": null,
      "outputs": []
    },
    {
      "cell_type": "code",
      "source": [
        "\n",
        "\n",
        "display(v.draw(\"latex\"))\n",
        "\n",
        "v = v.evolve(X)\n",
        "#v = v.evolve(T)\n",
        "#v = v.evolve(H)\n",
        "#v = v.evolve(T)\n",
        "#v = v.evolve(Z)\n",
        "\n",
        "display(v.draw(\"latex\"))\n",
        "\n",
        "\n",
        "plot_bloch_vector(bloch_vector_spherical(v), coord_type='spherical', title=\"Estado en la Esfera de Bloch (Coordenadas Esféricas)\")"
      ],
      "metadata": {
        "id": "BhDLHZD5g7ac"
      },
      "execution_count": null,
      "outputs": []
    },
    {
      "cell_type": "markdown",
      "source": [
        "[Nicolás Avilán Vargas](http://www.linkedin.com/in/nicoavilanv)\n",
        "\n",
        "Para reportar errores o sugerencias: nicolasg.avilan@urosario.edu.co"
      ],
      "metadata": {
        "id": "AlOIFJhfyh3i"
      }
    }
  ]
}