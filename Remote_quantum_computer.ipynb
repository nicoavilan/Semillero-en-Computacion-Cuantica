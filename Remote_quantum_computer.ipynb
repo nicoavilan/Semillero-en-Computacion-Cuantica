{
  "nbformat": 4,
  "nbformat_minor": 0,
  "metadata": {
    "colab": {
      "provenance": [],
      "authorship_tag": "ABX9TyMq1NN6wciKTDnYJNrRnkWZ",
      "include_colab_link": true
    },
    "kernelspec": {
      "name": "python3",
      "display_name": "Python 3"
    },
    "language_info": {
      "name": "python"
    }
  },
  "cells": [
    {
      "cell_type": "markdown",
      "metadata": {
        "id": "view-in-github",
        "colab_type": "text"
      },
      "source": [
        "<a href=\"https://colab.research.google.com/github/nicoavilan/Semillero-en-Computacion-Cuantica/blob/main/Remote_quantum_computer.ipynb\" target=\"_parent\"><img src=\"https://colab.research.google.com/assets/colab-badge.svg\" alt=\"Open In Colab\"/></a>"
      ]
    },
    {
      "cell_type": "markdown",
      "source": [
        "# Guía para usar un **Computador Cuántico Real** de *manera remota*"
      ],
      "metadata": {
        "id": "co98gfiLiDgh"
      }
    },
    {
      "cell_type": "markdown",
      "source": [
        "La api_key se toma de la página [IBM Quantum Platform](https://quantum.ibm.com/) habiéndome registrado con mi cuenta personal."
      ],
      "metadata": {
        "id": "0j6wB97qik66"
      }
    },
    {
      "cell_type": "code",
      "source": [
        "#api_key = \"Pega acá el API TOKEN\"\n",
        "api_key = \" \""
      ],
      "metadata": {
        "id": "60RHINBGiu3R"
      },
      "execution_count": 19,
      "outputs": []
    },
    {
      "cell_type": "markdown",
      "source": [
        "* *qiskit*: La biblioteca principal de Qiskit, que proporciona herramientas para crear, manipular y ejecutar circuitos cuánticos. Incluye módulos para definir qubits, puertas cuánticas y simulaciones básicas.\n",
        "* *qiskit-nature*: Una biblioteca de Qiskit diseñada para aplicaciones en ciencias naturales, como química cuántica y simulaciones de sistemas físicos (por ejemplo, moléculas o materiales). Se usa para resolver problemas como la energía fundamental de moléculas.\n",
        "* *qiskit-aer*: Proporciona simuladores cuánticos de alto rendimiento. Incluye simuladores como AerSimulator, que permite simular circuitos cuánticos en una computadora clásica, con o sin ruido, para probar algoritmos antes de ejecutarlos en hardware real.\n",
        "* *qiskit-algorithms*: Contiene implementaciones de algoritmos cuánticos populares, como el algoritmo de Shor, Grover, o el Variational Quantum Eigensolver (VQE). Es útil para tareas de optimización, aprendizaje automático cuántico, y más.\n",
        "* *qiskit-ibm-runtime*: Permite interactuar con los servicios en la nube de IBM Quantum, como computadores cuánticos reales y simuladores avanzados. Proporciona herramientas como Sampler y Estimator para ejecutar circuitos de manera eficiente en hardware real o simuladores remotos."
      ],
      "metadata": {
        "id": "CpHNsFDDc_BB"
      }
    },
    {
      "cell_type": "code",
      "source": [
        "%pip install qiskit --quiet"
      ],
      "metadata": {
        "id": "XZiWe9f9Drhl"
      },
      "execution_count": null,
      "outputs": []
    },
    {
      "cell_type": "code",
      "source": [
        "%pip install qiskit-aer --quiet"
      ],
      "metadata": {
        "id": "0Pi3FMI0DwBy"
      },
      "execution_count": null,
      "outputs": []
    },
    {
      "cell_type": "code",
      "source": [
        "%pip install qiskit-algorithms --quiet"
      ],
      "metadata": {
        "id": "RuFuiOEQD1SB"
      },
      "execution_count": null,
      "outputs": []
    },
    {
      "cell_type": "markdown",
      "source": [
        "El siguiente código genera un mensaje de error por conflictos por incompatibilidades, sin embargo funciona. Habrá que probar nuevamente cuando todos los módulos estén actualizados a la nueva versión.  "
      ],
      "metadata": {
        "id": "zgy6rX7YHicZ"
      }
    },
    {
      "cell_type": "code",
      "source": [
        "%pip install qiskit-ibm-runtime --quiet"
      ],
      "metadata": {
        "id": "TRZPu3kJHCjL"
      },
      "execution_count": null,
      "outputs": []
    },
    {
      "cell_type": "markdown",
      "source": [
        "`pylatexenc` es una biblioteca de Python diseñada para generar y manipular código LaTeX de manera programática."
      ],
      "metadata": {
        "id": "65fM6fNrcxwh"
      }
    },
    {
      "cell_type": "code",
      "source": [
        "%pip install pylatexenc --quiet"
      ],
      "metadata": {
        "id": "AFx2nwlWiX24"
      },
      "execution_count": null,
      "outputs": []
    },
    {
      "cell_type": "markdown",
      "source": [
        "Verifico la versión. Este código funciona en versión 2.1.0"
      ],
      "metadata": {
        "id": "wSRxkGnTdQZl"
      }
    },
    {
      "cell_type": "code",
      "source": [
        "from qiskit import __version__\n",
        "print(__version__)"
      ],
      "metadata": {
        "id": "Fo4wyWLgsZh6"
      },
      "execution_count": null,
      "outputs": []
    },
    {
      "cell_type": "code",
      "source": [
        "from qiskit import QuantumCircuit#, transpile\n",
        "from qiskit_aer import AerSimulator\n",
        "from qiskit.visualization import plot_histogram, plot_bloch_multivector\n",
        "from qiskit.transpiler.preset_passmanagers import generate_preset_pass_manager\n",
        "from qiskit.quantum_info import Statevector # Pauli, SparsePauliOp"
      ],
      "metadata": {
        "id": "DT62lMQrsbxF"
      },
      "execution_count": 9,
      "outputs": []
    },
    {
      "cell_type": "code",
      "source": [
        "qc = QuantumCircuit(2,2)\n",
        "qc.draw(output=\"mpl\")"
      ],
      "metadata": {
        "id": "Zws9Ok5ildbP"
      },
      "execution_count": null,
      "outputs": []
    },
    {
      "cell_type": "code",
      "source": [
        "init_state = Statevector(qc)\n",
        "display(init_state.draw(\"latex\"))\n",
        "print(\"\\n\")\n",
        "plot_bloch_multivector(init_state)"
      ],
      "metadata": {
        "id": "cVgoX4lallp-"
      },
      "execution_count": null,
      "outputs": []
    },
    {
      "cell_type": "markdown",
      "source": [
        "Combina el uso de una compuerta Hadamard y una CNOT para generar un estado de Bell"
      ],
      "metadata": {
        "id": "FCZxArMJnQ9n"
      }
    },
    {
      "cell_type": "code",
      "source": [
        "qc.h(0)\n",
        "qc.cx(0, 1)\n",
        "qc.draw(\"mpl\")"
      ],
      "metadata": {
        "id": "OVUQ4CDmkLWe"
      },
      "execution_count": null,
      "outputs": []
    },
    {
      "cell_type": "code",
      "source": [
        "display(Statevector(qc).draw(\"latex\"))"
      ],
      "metadata": {
        "id": "wqqib3yPmmST"
      },
      "execution_count": null,
      "outputs": []
    },
    {
      "cell_type": "code",
      "source": [
        "h_state = Statevector(qc)\n",
        "display(h_state.draw(\"latex\"))"
      ],
      "metadata": {
        "id": "UYnlro9GniA7"
      },
      "execution_count": null,
      "outputs": []
    },
    {
      "cell_type": "markdown",
      "source": [
        "Reconocemos el estado de Bell ([Bell state](https://en.wikipedia.org/wiki/Bell_state))"
      ],
      "metadata": {
        "id": "Uw42u6G9Ecml"
      }
    },
    {
      "cell_type": "markdown",
      "source": [
        "Medimos"
      ],
      "metadata": {
        "id": "9UcvckbIntPc"
      }
    },
    {
      "cell_type": "code",
      "source": [
        "qc.measure(0,0)\n",
        "qc.measure(1,1)\n",
        "qc.draw(\"mpl\")"
      ],
      "metadata": {
        "id": "Xpi86NKOnt8H"
      },
      "execution_count": null,
      "outputs": []
    },
    {
      "cell_type": "code",
      "source": [
        "backend = AerSimulator()\n",
        "result = backend.run(qc, shots = 1024).result()\n",
        "counts = result.get_counts()\n",
        "print(counts)\n",
        "plot_histogram(counts)"
      ],
      "metadata": {
        "id": "oe2uISa1n5Ik"
      },
      "execution_count": null,
      "outputs": []
    },
    {
      "cell_type": "markdown",
      "source": [
        "## Conecto con el computador real"
      ],
      "metadata": {
        "id": "-00bqZdtoZDX"
      }
    },
    {
      "cell_type": "code",
      "source": [
        "from qiskit_ibm_runtime import QiskitRuntimeService, Sampler # Session"
      ],
      "metadata": {
        "id": "0Ra8ZytJobQm"
      },
      "execution_count": 17,
      "outputs": []
    },
    {
      "cell_type": "code",
      "source": [
        "service = QiskitRuntimeService(channel=\"local\", token=api_key)"
      ],
      "metadata": {
        "id": "KhiKQ86ionMf"
      },
      "execution_count": 21,
      "outputs": []
    },
    {
      "cell_type": "markdown",
      "source": [
        "Otros posibles canales son:\n",
        "* \"ibm_cloud\"\n",
        "* \"ibm_quantum_platform\"\n",
        "* \"local\"\n",
        "\n",
        "Estos métodos se están actualizando (junio de 2025) si algo falla hay que revisar la guía de migración de la plataforma:\n",
        "\n",
        "[Migration guides](https://quantum.cloud.ibm.com/docs/es/migration-guides/classic-iqp-to-cloud-iqp)\n"
      ],
      "metadata": {
        "id": "041cfRMJFBrT"
      }
    },
    {
      "cell_type": "markdown",
      "source": [
        "Podemos averiguar sobre los posibles servidores con `service.backends()`"
      ],
      "metadata": {
        "id": "4iHuVqvrgVTC"
      }
    },
    {
      "cell_type": "code",
      "source": [
        "service.backends()"
      ],
      "metadata": {
        "id": "ruyOb99lXQwL"
      },
      "execution_count": null,
      "outputs": []
    },
    {
      "cell_type": "markdown",
      "source": [
        "Conecta con un compuador cuántico real como estos:\n",
        "\n",
        "* IBMBackend('ibm_brisbane')\n",
        "* BMBackend('ibm_kyiv') [until 18 April 2025]\n",
        "* IBMBackend('ibm_sherbrooke')\n",
        "\n",
        "[Upcoming QPU retirements](https://docs.quantum.ibm.com/announcements/product-updates/2025-02-20-retirements-kyiv-sherbrooke)"
      ],
      "metadata": {
        "id": "Z6jB-BDOWECN"
      }
    },
    {
      "cell_type": "code",
      "source": [
        "backend_qc = service.least_busy()\n",
        "print(backend_qc)"
      ],
      "metadata": {
        "id": "Gi9xWb4qpChE"
      },
      "execution_count": null,
      "outputs": []
    },
    {
      "cell_type": "code",
      "source": [
        "pm = generate_preset_pass_manager(optimization_level =1, backend = backend_qc)\n",
        "transpiled_circuit = pm.run(qc)"
      ],
      "metadata": {
        "id": "s1Ds_Nz9pZi3"
      },
      "execution_count": 24,
      "outputs": []
    },
    {
      "cell_type": "code",
      "source": [
        "sampler = Sampler(mode=backend_qc)"
      ],
      "metadata": {
        "id": "M4XLSUEcp_yV"
      },
      "execution_count": 25,
      "outputs": []
    },
    {
      "cell_type": "code",
      "source": [
        "job = sampler.run([transpiled_circuit])"
      ],
      "metadata": {
        "id": "AU7XHRLbqGgw"
      },
      "execution_count": 26,
      "outputs": []
    },
    {
      "cell_type": "markdown",
      "source": [
        "El método `.status()` indica el estado del proceso:\n",
        "\n",
        "[JobStatus](https://docs.quantum.ibm.com/api/qiskit/qiskit.providers.JobStatus)\n",
        "\n",
        " * INITIALIZING\n",
        " * QUEUED\n",
        " * VALIDATING\n",
        " * RUNNING\n",
        " * CANCELLED\n",
        " * DONE\n",
        " * ERROR"
      ],
      "metadata": {
        "id": "EUysSMWLglSy"
      }
    },
    {
      "cell_type": "code",
      "source": [
        "job.status()"
      ],
      "metadata": {
        "id": "eDfJmWXnqeIC"
      },
      "execution_count": null,
      "outputs": []
    },
    {
      "cell_type": "code",
      "source": [
        "result = job.result()"
      ],
      "metadata": {
        "collapsed": true,
        "id": "CBqgVzk5qh16"
      },
      "execution_count": 48,
      "outputs": []
    },
    {
      "cell_type": "code",
      "source": [
        "display(result)"
      ],
      "metadata": {
        "id": "VLRju2m2q0KB"
      },
      "execution_count": null,
      "outputs": []
    },
    {
      "cell_type": "code",
      "source": [
        "qc.cregs"
      ],
      "metadata": {
        "id": "YUqXhuabq5L4"
      },
      "execution_count": null,
      "outputs": []
    },
    {
      "cell_type": "code",
      "source": [
        "result[0].data['c'].get_counts()"
      ],
      "metadata": {
        "id": "gj85gJ4hNjxV"
      },
      "execution_count": null,
      "outputs": []
    },
    {
      "cell_type": "code",
      "source": [
        "counts = result[0].data['c'].get_counts()\n",
        "print(counts)\n",
        "plot_histogram(counts)"
      ],
      "metadata": {
        "id": "jA-VJhtHrCFg"
      },
      "execution_count": null,
      "outputs": []
    },
    {
      "cell_type": "markdown",
      "source": [
        "[Nicolás Avilán Vargas](http://www.linkedin.com/in/nicoavilanv)\n",
        "\n",
        "Para reportar errores o sugerencias: nicolasg.avilan@urosario.edu.co"
      ],
      "metadata": {
        "id": "E0AKYNq3DeDe"
      }
    }
  ]
}